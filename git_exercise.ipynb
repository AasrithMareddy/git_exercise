{
 "cells": [
  {
   "cell_type": "code",
   "execution_count": 1,
   "id": "7fb7afde",
   "metadata": {},
   "outputs": [
    {
     "name": "stdout",
     "output_type": "stream",
     "text": [
      "The sum of a and b is: 15\n"
     ]
    }
   ],
   "source": [
    "# This is some basic Python code\n",
    "a = 5\n",
    "b = 10\n",
    "sum_ab = a + b\n",
    "print(\"The sum of a and b is:\", sum_ab)"
   ]
  },
  {
   "cell_type": "code",
   "execution_count": 2,
   "id": "dce8f679",
   "metadata": {},
   "outputs": [
    {
     "name": "stdout",
     "output_type": "stream",
     "text": [
      "Hello, World!\n"
     ]
    }
   ],
   "source": [
    "print(\"Hello, World!\")"
   ]
  },
  {
   "cell_type": "code",
   "execution_count": null,
   "id": "90156ea6",
   "metadata": {},
   "outputs": [],
   "source": [
    "print(\"Hello, World!\")"
   ]
  },
  {
   "cell_type": "code",
   "execution_count": null,
   "id": "e5d1153e",
   "metadata": {},
   "outputs": [],
   "source": [
    "print('test commit')"
   ]
  },
  {
   "cell_type": "code",
   "execution_count": null,
   "id": "4c758243",
   "metadata": {},
   "outputs": [],
   "source": [
    "t= True"
   ]
  }
 ],
 "metadata": {
  "kernelspec": {
   "display_name": "ml",
   "language": "python",
   "name": "python3"
  },
  "language_info": {
   "codemirror_mode": {
    "name": "ipython",
    "version": 3
   },
   "file_extension": ".py",
   "mimetype": "text/x-python",
   "name": "python",
   "nbconvert_exporter": "python",
   "pygments_lexer": "ipython3",
   "version": "3.12.0"
  }
 },
 "nbformat": 4,
 "nbformat_minor": 5
}
