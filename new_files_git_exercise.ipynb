{
 "cells": [
  {
   "cell_type": "markdown",
   "id": "3fac4257",
   "metadata": {},
   "source": [
    "# Files of Léo"
   ]
  }
 ],
 "metadata": {
  "language_info": {
   "name": "python"
  }
 },
 "nbformat": 4,
 "nbformat_minor": 5
}
